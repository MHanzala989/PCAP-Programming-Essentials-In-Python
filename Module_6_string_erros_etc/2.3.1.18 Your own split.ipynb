def mysplit(strng):
    #
    # put your code here
    lst = list()
    if strng == '':
        return lst
    strr = ''
    for i in strng:
        
        if i.isspace() == False:
            strr += i # adding characteres when space is not reached yet
        else: # is space reached!
            lst.append(strr)
            strr = '' #reset strr for next word
    lst.append(strr)#append last word
    return lst
        
        
        

print(mysplit("To be or not to be, that is the question"))
print(mysplit("To be or not to be,that is the question"))
print(mysplit("   "))
print(mysplit(" abc "))
print(mysplit(""))


#out #puts
['To', 'be', 'or', 'not', 'to', 'be,', 'that', 'is', 'the', 'question']
['To', 'be', 'or', 'not', 'to', 'be,that', 'is', 'the', 'question']
['', '', '', '']
['', 'abc', '']
[]
