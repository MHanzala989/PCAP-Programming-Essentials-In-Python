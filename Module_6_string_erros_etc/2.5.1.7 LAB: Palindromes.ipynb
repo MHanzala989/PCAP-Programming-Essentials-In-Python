def check_palindrome(usr_string):
    rev_str = ''                        #temp string to store appended elements
    for ix in range(len(usr_string)):
        rev_str += usr_string[-(ix+1)]  #appending elements
    return "it's a palindrome " if rev_str == usr_string else "it's not a palindrome"



string = input('Enter a string: ')      #prompt string from user
string = string.lower().replace(' ','') #remove white spaces and convert to lower
check_palindrome(string)                #call the function

#sample output
Enter a string: Ten animals I slam in a net
"it's a palindrome "
