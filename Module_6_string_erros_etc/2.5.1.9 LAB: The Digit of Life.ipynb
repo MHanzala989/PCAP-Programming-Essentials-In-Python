def check_anagram(txt1,txt2):
    txt1 = txt1.lower()   #ignore case, so convert all to lower case
    txt2 = txt2.lower()
    
    if len(txt1) != len(txt2): # if length is not equal, of course then its not anagram
        return "not anagram"
    l1 = list()
    l2 = list()
    for i in range(len(txt1)):         #looping through ist string
        l1.append(txt1[i])
        l2.append(txt2[i])
    l1.sort()
    l2.sort()
    return "Anagram" if l1 == l2 else "Not Anagram"


t1 = input("Enter tex 1 :")
t2 = input("Enter tex 2 :")
check_anagram(t1,t2)   #call function


#samples
# Enter tex 1 :nadan
# Enter tex 2 :adnan
# 'Anagram'

# Enter tex 1 :kill it
# Enter tex 2 :kit ill
# 'Anagram'
