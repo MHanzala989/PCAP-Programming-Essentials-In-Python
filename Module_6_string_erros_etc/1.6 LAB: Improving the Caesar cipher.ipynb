def caesar(text,num):
    ciper = ''
    for char in text:    #iterating through each character
        if char.isalpha() and char.islower():  #check wether char is lower and alphabet
            char = (ord(char) + num)
            if char > 122:
                char = (char%122) + 96
                ciper += chr(char)
            else:
                ciper += chr(char)
        elif char.isalpha() and char.isupper():#if uper case then do this
            char = (ord(char) + num)
            if char > 90:
                char = (char%90) + 64
                ciper += chr(char)
            else:
                ciper += chr(char)
        else:                   #if not alpha then leave it as it is
            ciper += char        #append ciper
    return ciper  #return ciper
                    
                

text = input('Enter text: ')
while True:
    shifting_num = int(input('Enter shifting number: '))   # prompt for input text to be converted
    if shifting_num not in range(1,26):     #check range
        continue
    else:  #if inuput was correct then leave loop
        break
ciperr = caesar(text,shifting_num)  #call the function
print(ciperr)    #print end result

#sample output
Enter text: The die is cast
Enter shifting number: 25
Sgd chd hr bzrs
