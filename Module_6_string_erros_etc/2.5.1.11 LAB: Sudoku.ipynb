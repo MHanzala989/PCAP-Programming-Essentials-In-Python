def check_1_to_10_digits(l):        #first check is for rows of sudoke tables
    
    for lsst in l:                  #looping trough list of sub_lists passed by function calling known as rows
        for ele in range(1,10):     #looping each sub_list and check 1-9 digits in it
            if str(ele) in lsst:    #if each 1-9 digits are in sub_list 
                continue
            else:
                return "No"
    return "Yes"


def check_cols(in_lst):                   #check each col of sudoke table
    list_of_col = []
    str_dig = '' 
    for row in range(9):                 #loop through rows of 9x9 table
        for col in range(9):             #loop through col of 9x9 table
            str_dig += in_lst[col][row]       #add first column of table into a list
        list_of_col.append(list(str_dig))#make sub_list of added strr and append it into main list
        str_dig = ''                     #make string free for adding nesxt column of table  
    return check_1_to_10_digits(list_of_col)


def check_3x3_matrices(num_list):         #check 1-10 digits in the each 3x3 ccolumns of sudoke table
    x_list = []
    for xr in range(0, 9, 3):
        for xc in range(0, 9, 3):                    
            x = ''
            for r in range(3):                       #creating 3x3 matric
                for c in range(3):
                    x += num_list[r + xr][c + xc]    #ading them in a string
            x_list.append(list(x))                   #creating list of that 3x3 matrix
    return check_1_to_10_digits(x_list)                         #pass this list to check 1-to-10 digts in each sub_lsit 



    

def main():
    row = input("enter 9x9 table: \n")  #9x9 string input from user
    row = row.split()                   #convert row into list, considering space as spliting spot
    lst = []                            #create empty list
    for i in range(9):                  #looping 9 times
        lst.append(list(row[i]))        #make list of each element of row (a list now) and append it in empy list  

    return "Yes" if check_1_to_10_digits(lst) == check_cols(lst) == check_3x3_matrices(lst) else "No"

main()

#sample output
enter 9x9 table: 
195743862 431865927 876192543 387459216 612387495 549216738 763524189 928671354 254938671
'No'
#sample output
enter 9x9 table: 
295743861 431865927 876192543 387459216 612387495 549216738 763524189 928671354 154938672
'Yes'
