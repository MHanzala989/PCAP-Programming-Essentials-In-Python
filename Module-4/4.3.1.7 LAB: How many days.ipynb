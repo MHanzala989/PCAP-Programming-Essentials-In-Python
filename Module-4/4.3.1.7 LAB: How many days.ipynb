def is_leap_year(year):
    if yr % 4 == 0:
        if yr % 100 == 0:
            if yr % 400 == 0:
                return True
            return False
        return True  
    return False

def days_in_month(year, month):
    if month > 12:
        return None
    month_days = [31,28,31,30,31,30,31,31,30,31,30,31,29]
    if is_leap_year(year) and month == 2:
        days = month_days[-1]
    else:
        days = month_days[month-1]
    return days

test_years = [1900, 2000, 2016, 1987]
test_months = [2, 2, 1, 11]
test_results = [28, 29, 31, 30]
for i in range(len(test_years)):
    yr = test_years[i]
    mo = test_months[i]
    print(yr, mo, "->", end="")
    result = days_in_month(yr, mo)
    if result == test_results[i]:
        print("OK")
    else:
        print("Failed")
