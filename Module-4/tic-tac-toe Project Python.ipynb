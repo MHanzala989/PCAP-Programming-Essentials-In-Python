def display_board(board):
    # The function accepts one parameter containing the board's current status
    # and prints it out to the console.
    print(f'''
                +-------------+-------------+-------------+
                |             |             |             |
                |      {board[0][0]}      |      {board[0][1]}      |      {board[0][2]}      |
                |             |             |             |
                +-------------+-------------+-------------+
                |             |             |             |
                |      {board[1][0]}      |      X      |      {board[1][2]}      |
                |             |             |             |
                +-------------+-------------+-------------+
                |             |             |             |
                |      {board[2][0]}      |      {board[2][1]}      |      {board[2][2]}      |
                |             |             |             |
                +-------------+-------------+-------------+
                ''')
    
def enter_move(board):
    while True:
        userMove = int(input("Enter your move: "))
        if userMove not in range(1, 10):
            continue
        for i in range(3):
            for j in range(3):
                if userMove == board[i][j]:
                    board[i][j] = "O"
                    return


#def make_list_of_free_fields(board):
    # The function browses the board and builds a list of all the free squares; 
    
    # the list consists of tuples, while each tuple is a pair of row and column numbers.


def victory_for(board, sign):
    #
    # the function analyzes the board status in order to check if
    # the player using 'O's or 'X's has won the game
    #
    if sign == board[0][0] == board[0][1] == board[0][2] or \
        sign == board[1][0] == board[1][1] == board[1][2] or \
        sign == board[2][0] == board[2][1] == board[2][2] or \
        sign == board[0][0] == board[1][0] == board[2][0] or \
        sign == board[0][1] == board[1][1] == board[2][1] or \
        sign == board[0][2] == board[1][2] == board[2][2] or \
        sign == board[0][0] == board[1][1] == board[2][2] or \
        sign == board[0][2] == board[1][1] == board[2][0]:
        return sign
    

def draw_move(board):
    # The function draws the computer's move and updates the board.
    from random import randrange
    while True:
        comMove = randrange(1, 10)
        for i in range(3):
            for j in range(3):
                if board[i][j] == comMove:
                    board[i][j] = "X"
                    return 

                
board = [[1,2,3],[4,5,6],[7,8,9]]
for i in range(4):
    display_board(board)
    enter_move(board)
    draw_move(board)
    display(board)
    draw_move(board)
    if victory_for(board, "X") == "X":
        display_board(board)
        print("You lose!")
        break
        # Print when the user win
        if victory_for(board, "O") == "O":
            display_board(board)
            print("You won!")
            break

            
#Print when a tie occured
if victory_for(board, "O") == None and victory_for(board, "X") == None:
    display_board(board)
    print("It's a tie!")
            
            

